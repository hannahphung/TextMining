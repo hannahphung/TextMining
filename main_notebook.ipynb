{
 "cells": [
  {
   "cell_type": "code",
   "execution_count": 3,
   "id": "08e528a3",
   "metadata": {},
   "outputs": [],
   "source": [
    "%%capture\n",
    "!pip install -r requirements.txt"
   ]
  },
  {
   "cell_type": "code",
   "execution_count": 4,
   "id": "a0b029bc",
   "metadata": {},
   "outputs": [],
   "source": [
    "%%capture\n",
    "from read import *\n",
    "from document_processor import *\n",
    "from cluster import *\n",
    "from sklearn.decomposition import PCA\n",
    "from visualizer import *\n",
    "from guess_class import *\n",
    "from sklearn.metrics import confusion_matrix, precision_score, recall_score, f1_score"
   ]
  },
  {
   "cell_type": "code",
   "execution_count": 29,
   "id": "a9b676f6",
   "metadata": {},
   "outputs": [],
   "source": [
    "class TextMining:\n",
    "    def __init__ (self):\n",
    "        self.df = pd.read_csv('word_matrix.csv',index_col = 0)\n",
    "        self.predicted_label = None\n",
    "        self.modified_predicted = None\n",
    "    '''\n",
    "    def process (self):\n",
    "        Preprocessor = Folder_Reader() \n",
    "        self.df = Preprocessor.read_folder()   \n",
    "        self.df.to_csv('word_matrix.csv')\n",
    "    '''\n",
    "\n",
    "    def cluster (self):\n",
    "        #self.process()\n",
    "\n",
    "        pca = PCA(n_components=10)\n",
    "        reduced_data = pd.DataFrame(pca.fit_transform(self.df))\n",
    "\n",
    "        clusterer = Cluster (reduced_data)\n",
    "        self.predicted_label, centroids = clusterer.Kmeans(K=3, maxiter=100, similarity = 'cosine')\n",
    "        \n",
    "        return self.predicted_label, centroids\n",
    "    \n",
    "    def visualize (self, actual_label):\n",
    "        self.cluster()\n",
    "        self.modified_predicted = majority_class (self.predicted_label, actual_label)\n",
    "        \n",
    "        print('Predicted',self.modified_predicted)\n",
    "        print('Actual',actual_label)\n",
    "        \n",
    "        visualizer = Visualizer(self.df,self.modified_predicted, actual_label)\n",
    "        visualizer.plot()\n",
    "\n",
    "    def evaluate (self, actual_label):\n",
    "        prec = precision_score(y_true=actual_label, y_pred=self.modified_predicted, average=\"micro\",\n",
    "                                         zero_division=0)\n",
    "        print('Precision score:', prec)\n",
    "        rec = recall_score(y_true=actual_label, y_pred=self.modified_predicted, average=\"micro\")\n",
    "        print('Recall score:', rec)\n",
    "        f1 = f1_score(y_true=actual_label, y_pred=self.modified_predicted, average=\"micro\")\n",
    "        print('F1 score:', f1)\n",
    "\n",
    "        conf_matrix = confusion_matrix(y_true=actual_label,y_pred=self.modified_predicted)\n",
    "        print('Confusion matrix')\n",
    "        print(pd.DataFrame(conf_matrix))"
   ]
  },
  {
   "cell_type": "code",
   "execution_count": 32,
   "id": "8fb65042",
   "metadata": {},
   "outputs": [
    {
     "name": "stdout",
     "output_type": "stream",
     "text": [
      "Predicted [0, 0, 0, 0, 0, 0, 0, 0, 1, 1, 1, 1, 1, 1, 1, 1, 2, 2, 2, 2, 2, 2, 2, 2]\n",
      "Actual [0, 0, 0, 0, 0, 0, 0, 0, 1, 1, 1, 1, 1, 1, 1, 1, 2, 2, 2, 2, 2, 2, 2, 2]\n"
     ]
    },
    {
     "data": {
      "image/png": "[encoded data removed]",
      "text/plain": [
       "<Figure size 432x288 with 1 Axes>"
      ]
     },
     "metadata": {
      "needs_background": "light"
     },
     "output_type": "display_data"
    },
    {
     "name": "stdout",
     "output_type": "stream",
     "text": [
      "Precision score: 1.0\n",
      "Recall score: 1.0\n",
      "F1 score: 1.0\n",
      "Confusion matrix\n",
      "   0  1  2\n",
      "0  8  0  0\n",
      "1  0  8  0\n",
      "2  0  0  8\n"
     ]
    }
   ],
   "source": [
    "#from textmining import *\n",
    "\n",
    "model = TextMining()\n",
    "actual_labels = [0]*8 + [1]*8 + [2]*8\n",
    "model.visualize(actual_labels)\n",
    "model.evaluate(actual_labels)"
   ]
  },
  {
   "cell_type": "code",
   "execution_count": null,
   "id": "41e25a2f",
   "metadata": {},
   "outputs": [],
   "source": []
  },
  {
   "cell_type": "code",
   "execution_count": null,
   "id": "3f243969",
   "metadata": {},
   "outputs": [],
   "source": []
  }
 ],
 "metadata": {
  "kernelspec": {
   "display_name": "Python 3 (ipykernel)",
   "language": "python",
   "name": "python3"
  },
  "language_info": {
   "codemirror_mode": {
    "name": "ipython",
    "version": 3
   },
   "file_extension": ".py",
   "mimetype": "text/x-python",
   "name": "python",
   "nbconvert_exporter": "python",
   "pygments_lexer": "ipython3",
   "version": "3.9.12"
  }
 },
 "nbformat": 4,
 "nbformat_minor": 5
}
